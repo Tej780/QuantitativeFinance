{
 "cells": [
  {
   "attachments": {},
   "cell_type": "markdown",
   "metadata": {},
   "source": [
    "In this notebook, we use the Capital Asset Pricing Model (CAPM) to estimate the value of a given stock (IBM) against the \"market\" (represented by the S&P500)"
   ]
  },
  {
   "attachments": {},
   "cell_type": "markdown",
   "metadata": {},
   "source": [
    "In CAPM we assume the returns of an asset is some risk-free rate plus the market-risk premium, with beta as a proportionality constant. Beta is a measure of the volatility of a stock/portfolio with respect to the market volatility."
   ]
  },
  {
   "cell_type": "code",
   "execution_count": 110,
   "metadata": {},
   "outputs": [],
   "source": [
    "import numpy as np\n",
    "import yfinance as yf\n",
    "import pandas as pd\n",
    "import matplotlib.pyplot as plt\n",
    "from scipy.stats import norm"
   ]
  },
  {
   "cell_type": "markdown",
   "metadata": {},
   "source": [
    "### Download stock and \"market\" data"
   ]
  },
  {
   "cell_type": "code",
   "execution_count": 111,
   "metadata": {},
   "outputs": [],
   "source": [
    "STOCKS = [\"IBM\", \"^GSPC\"]\n",
    "start_date = \"2010-01-01\"\n",
    "end_date = \"2023-01-01\""
   ]
  },
  {
   "cell_type": "code",
   "execution_count": 112,
   "metadata": {},
   "outputs": [
    {
     "name": "stdout",
     "output_type": "stream",
     "text": [
      "[*********************100%***********************]  1 of 1 completed\n",
      "[*********************100%***********************]  1 of 1 completed\n"
     ]
    }
   ],
   "source": [
    "data = {}\n",
    "for s in STOCKS:\n",
    "    ticker = yf.download(s, start=start_date, end=end_date)\n",
    "    data[s] = ticker[\"Adj Close\"]\n",
    "ticker_data = pd.DataFrame(data)\n",
    "ticker_data.index = pd.to_datetime(ticker_data.index)"
   ]
  },
  {
   "cell_type": "markdown",
   "metadata": {},
   "source": [
    "### Check normality of daily returns"
   ]
  },
  {
   "cell_type": "code",
   "execution_count": 127,
   "metadata": {},
   "outputs": [
    {
     "data": {
      "text/plain": [
       "[<matplotlib.lines.Line2D at 0x1c1404da9a0>]"
      ]
     },
     "execution_count": 127,
     "metadata": {},
     "output_type": "execute_result"
    },
    {
     "data": {
      "image/png": "[encoded data removed]",
      "text/plain": [
       "<Figure size 640x480 with 1 Axes>"
      ]
     },
     "metadata": {},
     "output_type": "display_data"
    }
   ],
   "source": [
    "log_daily_returns = np.log(ticker_data[STOCKS[0]] / ticker_data[STOCKS[0]].shift(1))[1:]\n",
    "mu = log_daily_returns.mean()\n",
    "sigma = np.sqrt(log_daily_returns.var())\n",
    "plt.hist(log_daily_returns, bins=365)\n",
    "x = np.linspace(mu - 3 * sigma, mu + 3 * sigma, 100)\n",
    "plt.plot(x, norm.pdf(x, mu, sigma))"
   ]
  },
  {
   "attachments": {},
   "cell_type": "markdown",
   "metadata": {},
   "source": [
    "We change to a monthly view as returns are more closely normally distributed. This assumption may not hold for daily returns."
   ]
  },
  {
   "cell_type": "code",
   "execution_count": 114,
   "metadata": {},
   "outputs": [],
   "source": [
    "monthly_ticker_data = ticker_data.resample(\"M\").last()"
   ]
  },
  {
   "cell_type": "code",
   "execution_count": 115,
   "metadata": {},
   "outputs": [],
   "source": [
    "stock_data = monthly_ticker_data[STOCKS[0]]\n",
    "market_data = monthly_ticker_data[STOCKS[1]]"
   ]
  },
  {
   "cell_type": "code",
   "execution_count": 116,
   "metadata": {},
   "outputs": [],
   "source": [
    "log_monthly_stock_returns = np.log(stock_data / stock_data.shift(1))[1:]\n",
    "log_monthly_market_returns = np.log(market_data / market_data.shift(1))[1:]"
   ]
  },
  {
   "cell_type": "markdown",
   "metadata": {},
   "source": [
    "### Calculate covariance and estimate the beta parameter"
   ]
  },
  {
   "cell_type": "code",
   "execution_count": 117,
   "metadata": {},
   "outputs": [],
   "source": [
    "covariance = np.cov(log_monthly_stock_returns, log_monthly_market_returns)\n",
    "market_stock_covariance = covariance[0, 1]\n",
    "market_variance = covariance[1, 1]"
   ]
  },
  {
   "cell_type": "code",
   "execution_count": 118,
   "metadata": {},
   "outputs": [],
   "source": [
    "beta = market_stock_covariance / market_variance"
   ]
  },
  {
   "cell_type": "code",
   "execution_count": 119,
   "metadata": {},
   "outputs": [
    {
     "name": "stdout",
     "output_type": "stream",
     "text": [
      "Beta: 0.8234701223866027. Lower risk, Lower return\n"
     ]
    }
   ],
   "source": [
    "if beta < 1:\n",
    "    print(f\"Beta: {beta}. Lower risk, Lower return\")\n",
    "elif beta > 1:\n",
    "    print(f\"Beta: {beta}. Higher risk, Higher return\")\n",
    "else:\n",
    "    print(f\"Beta: {beta}. Same as market\")"
   ]
  },
  {
   "attachments": {},
   "cell_type": "markdown",
   "metadata": {},
   "source": [
    "### Estimate alpha and beta (assuming risk-free rate = 0) using linear regression"
   ]
  },
  {
   "cell_type": "code",
   "execution_count": 120,
   "metadata": {},
   "outputs": [],
   "source": [
    "beta, alpha = np.polyfit(log_monthly_market_returns, log_monthly_stock_returns, deg=1)"
   ]
  },
  {
   "attachments": {},
   "cell_type": "markdown",
   "metadata": {},
   "source": [
    "### Estimate average returns based on alpha and beta"
   ]
  },
  {
   "cell_type": "code",
   "execution_count": 121,
   "metadata": {},
   "outputs": [
    {
     "name": "stdout",
     "output_type": "stream",
     "text": [
      "Return 9.01%\n"
     ]
    }
   ],
   "source": [
    "risk_free_rate = 0.05  # Assumption alert\n",
    "annual_returns = risk_free_rate + beta * (\n",
    "    log_monthly_market_returns.mean() * 12 - risk_free_rate\n",
    ")\n",
    "print(\"Return {0:.2f}%\".format(annual_returns * 100))"
   ]
  },
  {
   "cell_type": "markdown",
   "metadata": {},
   "source": [
    "### Plot (assuming risk-free rate = 0)"
   ]
  },
  {
   "cell_type": "code",
   "execution_count": 122,
   "metadata": {},
   "outputs": [
    {
     "data": {
      "text/plain": [
       "[<matplotlib.lines.Line2D at 0x1c13e0b41c0>]"
      ]
     },
     "execution_count": 122,
     "metadata": {},
     "output_type": "execute_result"
    },
    {
     "data": {
      "image/png": "[encoded data removed]",
      "text/plain": [
       "<Figure size 640x480 with 1 Axes>"
      ]
     },
     "metadata": {},
     "output_type": "display_data"
    }
   ],
   "source": [
    "plt.scatter(log_monthly_market_returns, log_monthly_stock_returns)\n",
    "plt.plot(log_monthly_market_returns, beta * (log_monthly_market_returns + alpha))"
   ]
  },
  {
   "cell_type": "code",
   "execution_count": null,
   "metadata": {},
   "outputs": [],
   "source": []
  }
 ],
 "metadata": {
  "kernelspec": {
   "display_name": ".venv",
   "language": "python",
   "name": "python3"
  },
  "language_info": {
   "codemirror_mode": {
    "name": "ipython",
    "version": 3
   },
   "file_extension": ".py",
   "mimetype": "text/x-python",
   "name": "python",
   "nbconvert_exporter": "python",
   "pygments_lexer": "ipython3",
   "version": "3.8.1"
  },
  "orig_nbformat": 4
 },
 "nbformat": 4,
 "nbformat_minor": 2
}
