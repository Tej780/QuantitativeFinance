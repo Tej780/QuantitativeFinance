{
 "cells": [
  {
   "cell_type": "code",
   "execution_count": 26,
   "metadata": {},
   "outputs": [],
   "source": [
    "def present_value(x, n, rate):\n",
    "    return x/(1+rate)**n"
   ]
  },
  {
   "cell_type": "code",
   "execution_count": 31,
   "metadata": {},
   "outputs": [],
   "source": [
    "# Coupon bond\n",
    "principle = 1000\n",
    "coupon = 0.1\n",
    "maturity = 3\n",
    "market_interest_rate = 0.04"
   ]
  },
  {
   "attachments": {},
   "cell_type": "markdown",
   "metadata": {},
   "source": [
    "For zero coupon bonds, we simply discount the future cashflow i.e. the principle at maturity to find the present day value of the bond.\n",
    "Money today is worth more than money tomorrow, so the present value is lower than the principle."
   ]
  },
  {
   "cell_type": "code",
   "execution_count": 32,
   "metadata": {},
   "outputs": [
    {
     "data": {
      "text/plain": [
       "888.9963586709148"
      ]
     },
     "execution_count": 32,
     "metadata": {},
     "output_type": "execute_result"
    }
   ],
   "source": [
    "present_value(principle,maturity,market_interest_rate)"
   ]
  },
  {
   "attachments": {},
   "cell_type": "markdown",
   "metadata": {},
   "source": [
    "Present value of a coupon bond\n",
    "\n",
    "$$\\frac{x}{(1+r)^T} + \\Sigma_n^T \\frac{c}{(1+r)^n}$$"
   ]
  },
  {
   "cell_type": "code",
   "execution_count": 24,
   "metadata": {},
   "outputs": [
    {
     "data": {
      "text/plain": [
       "1166.5054619936275"
      ]
     },
     "execution_count": 24,
     "metadata": {},
     "output_type": "execute_result"
    }
   ],
   "source": [
    "price = 0\n",
    "for t in range(1,maturity+1):\n",
    "    price += present_value(principle * coupon,t,market_interest_rate) # discounted future cashflows\n",
    "price += present_value(principle,maturity,market_interest_rate)\n",
    "price"
   ]
  },
  {
   "cell_type": "code",
   "execution_count": null,
   "metadata": {},
   "outputs": [],
   "source": []
  }
 ],
 "metadata": {
  "kernelspec": {
   "display_name": ".venv",
   "language": "python",
   "name": "python3"
  },
  "language_info": {
   "codemirror_mode": {
    "name": "ipython",
    "version": 3
   },
   "file_extension": ".py",
   "mimetype": "text/x-python",
   "name": "python",
   "nbconvert_exporter": "python",
   "pygments_lexer": "ipython3",
   "version": "3.8.1"
  },
  "orig_nbformat": 4
 },
 "nbformat": 4,
 "nbformat_minor": 2
}
