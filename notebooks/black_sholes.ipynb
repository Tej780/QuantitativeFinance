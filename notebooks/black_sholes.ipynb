{
 "cells": [
  {
   "attachments": {},
   "cell_type": "markdown",
   "metadata": {},
   "source": [
    "The Black-Sholes model is used to determine the price of financial derivatives, such as the price of an option for a given underlying stock.\n",
    "\n",
    "From Investopedia:\n",
    "\"_Black-Scholes posits that instruments, such as stock shares or futures contracts, will have a lognormal distribution of prices following a random walk with constant drift and volatility. Using this assumption and factoring in other important variables, the equation derives the price of a European-style call option._\n",
    "\n",
    "_The Black-Scholes equation requires five variables. These inputs are volatility, the price of the underlying asset, the strike price of the option, the time until expiration of the option, and the risk-free interest rate. With these variables, it is theoretically possible for options sellers to set rational prices for the options that they are selling._\n",
    "\n",
    "_Furthermore, the model predicts that the price of heavily traded assets follows a geometric Brownian motion with constant drift and volatility. When applied to a stock option, the model incorporates the constant price variation of the stock, the time value of money, the option's strike price, and the time to the option's expiry._\"\n",
    "\n",
    "### Black-Scholes Assumptions\n",
    "\n",
    "- No dividends are paid out during the life of the option.\n",
    "- Markets are random (i.e., market movements cannot be predicted).\n",
    "- There are no transaction costs in buying the option.\n",
    "- The risk-free rate and volatility of the underlying asset are known and constant.\n",
    "- The returns of the underlying asset are normally distributed.\n",
    "- The option is European and can only be exercised at expiration."
   ]
  },
  {
   "attachments": {},
   "cell_type": "markdown",
   "metadata": {},
   "source": [
    "While the Black-Sholes model is itself a stochastic differential equiation, the solution to the equation can be easily implemented"
   ]
  },
  {
   "attachments": {},
   "cell_type": "markdown",
   "metadata": {},
   "source": [
    "## Basic implementation"
   ]
  },
  {
   "cell_type": "code",
   "execution_count": 136,
   "metadata": {},
   "outputs": [],
   "source": [
    "from scipy import stats\n",
    "import numpy as np\n",
    "import matplotlib.pyplot as plt"
   ]
  },
  {
   "cell_type": "code",
   "execution_count": null,
   "metadata": {},
   "outputs": [],
   "source": [
    "S0 = 100  # Initial price\n",
    "E = 100  # Strike price\n",
    "rf = 0.05  # Risk-free rate\n",
    "sigma = 0.2  # Volatility\n",
    "T = 1  # Time of maturity"
   ]
  },
  {
   "cell_type": "code",
   "execution_count": 137,
   "metadata": {},
   "outputs": [],
   "source": [
    "def call_option_price(S, E, T, rf, sigma):\n",
    "    \"\"\"Calculate the price of a call option at time t=0 for a given underlying stock.\n",
    "\n",
    "    Args:\n",
    "        S: Stock price\n",
    "        E: Exercise or Strike price\n",
    "        T: Time horizon\n",
    "        rf: Risk-free rate\n",
    "        sigma: Standard deviation for stochastic process\n",
    "    \"\"\"\n",
    "    d1 = (np.log(S / E) + (rf + 0.5 * sigma**2) * T) / (sigma * np.sqrt(T))\n",
    "    d2 = d1 - sigma * np.sqrt(T)\n",
    "\n",
    "    St = S * stats.norm.cdf(d1) - E * np.exp(-rf * T) * stats.norm.cdf(d2)\n",
    "    return St"
   ]
  },
  {
   "cell_type": "code",
   "execution_count": 138,
   "metadata": {},
   "outputs": [],
   "source": [
    "def put_option_price(S, E, T, rf, sigma):\n",
    "    \"\"\"Calculate the price of a put option at time t=0 for a given underlying stock.\n",
    "\n",
    "    Args:\n",
    "        S: Stock price\n",
    "        E: Exercise or Strike price\n",
    "        T: Time horizon\n",
    "        rf: Risk-free rate\n",
    "        sigma: Standard deviation for stochastic process\n",
    "    \"\"\"\n",
    "    d1 = (np.log(S / E) + (rf + 0.5 * sigma**2) * T) / (sigma * np.sqrt(T))\n",
    "    d2 = d1 - sigma * np.sqrt(T)\n",
    "\n",
    "    St = -S * stats.norm.cdf(-d1) + E * np.exp(-rf * T) * stats.norm.cdf(-d2)\n",
    "    return St"
   ]
  },
  {
   "cell_type": "code",
   "execution_count": 139,
   "metadata": {},
   "outputs": [
    {
     "name": "stdout",
     "output_type": "stream",
     "text": [
      "10.450583572185565\n",
      "5.573526022256971\n"
     ]
    }
   ],
   "source": [
    "print(call_option_price(S0, E, T, rf, sigma))\n",
    "print(put_option_price(S0, E, T, rf, sigma))"
   ]
  },
  {
   "attachments": {},
   "cell_type": "markdown",
   "metadata": {},
   "source": [
    "## Using Monte-Carlo"
   ]
  },
  {
   "cell_type": "code",
   "execution_count": 140,
   "metadata": {},
   "outputs": [],
   "source": [
    "def geometric_random_walk(S0, T: int = 2, N: int = 1000, mu=0.1, sigma=0.5):\n",
    "    \"\"\"Simulate a geometric random walk.\n",
    "\n",
    "    Args:\n",
    "        S0: Initial position (i.e. initial stock price). Must be non-zero.\n",
    "        T: Time horizon\n",
    "        N: Number of samples within horizon\n",
    "        mu: drift term\n",
    "        sigma: stochastic term\n",
    "    \"\"\"\n",
    "    dt = T / N\n",
    "    t = np.linspace(0, T, N)\n",
    "    W = np.random.standard_normal(N)\n",
    "    # N(0,dt) ~ N(0,1) * sqrt(dt)\n",
    "    W = np.cumsum(W) * np.sqrt(dt)\n",
    "    X = (mu - 0.5 * sigma**2) * t + sigma * W\n",
    "    S = S0 * np.exp(X)\n",
    "    return S, t"
   ]
  },
  {
   "attachments": {},
   "cell_type": "markdown",
   "metadata": {},
   "source": [
    "Simulate a number of random walks to determine price at t=T"
   ]
  },
  {
   "cell_type": "code",
   "execution_count": 141,
   "metadata": {},
   "outputs": [],
   "source": [
    "Ss = []\n",
    "iterations = 10000\n",
    "\n",
    "for _ in range(iterations):\n",
    "    # Assume drift is risk-free rate\n",
    "    S, t = geometric_random_walk(S0=S0, T=T, mu=rf, sigma=sigma)\n",
    "    Ss.append(S[-1])  # Stock price at maturity"
   ]
  },
  {
   "attachments": {},
   "cell_type": "markdown",
   "metadata": {},
   "source": [
    "Calculate the price of the option at time t=T, and use a discount factor to calculate present value of the option."
   ]
  },
  {
   "cell_type": "code",
   "execution_count": 142,
   "metadata": {},
   "outputs": [
    {
     "data": {
      "text/plain": [
       "10.501937287451021"
      ]
     },
     "execution_count": 142,
     "metadata": {},
     "output_type": "execute_result"
    }
   ],
   "source": [
    "# Call option\n",
    "Ss = np.array(Ss)\n",
    "# max(0,S-E)\n",
    "average_future_price = np.mean(np.amax(list(zip(np.zeros(Ss.shape), Ss - E)), axis=1))\n",
    "discount_factor = np.exp(-rf * T)\n",
    "price = discount_factor * average_future_price\n",
    "price"
   ]
  },
  {
   "cell_type": "code",
   "execution_count": 143,
   "metadata": {},
   "outputs": [
    {
     "data": {
      "text/plain": [
       "5.508259158336803"
      ]
     },
     "execution_count": 143,
     "metadata": {},
     "output_type": "execute_result"
    }
   ],
   "source": [
    "# Put option\n",
    "Ss = np.array(Ss)\n",
    "# max(0,E-S)\n",
    "average_future_price = np.mean(np.amax(list(zip(np.zeros(Ss.shape), E - Ss)), axis=1))\n",
    "discount_factor = np.exp(-rf * T)\n",
    "price = discount_factor * average_future_price\n",
    "price"
   ]
  },
  {
   "cell_type": "code",
   "execution_count": null,
   "metadata": {},
   "outputs": [],
   "source": []
  }
 ],
 "metadata": {
  "kernelspec": {
   "display_name": ".venv",
   "language": "python",
   "name": "python3"
  },
  "language_info": {
   "codemirror_mode": {
    "name": "ipython",
    "version": 3
   },
   "file_extension": ".py",
   "mimetype": "text/x-python",
   "name": "python",
   "nbconvert_exporter": "python",
   "pygments_lexer": "ipython3",
   "version": "3.8.1"
  },
  "orig_nbformat": 4
 },
 "nbformat": 4,
 "nbformat_minor": 2
}
